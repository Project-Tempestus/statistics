{
 "cells": [
  {
   "cell_type": "code",
   "execution_count": 1,
   "metadata": {},
   "outputs": [],
   "source": [
    "import csv\n",
    "\n",
    "HP = 100\n",
    "stats = []\n",
    "#                   x1,x2,x3,x4,x5\n",
    "modifier_chances = [50,20,15,5 ,10]\n",
    "\n",
    "for base_dmg in range(60+1):\n",
    "    p_oneshot = 0\n",
    "    for modifier,chance in enumerate(modifier_chances):\n",
    "        mod = modifier + 1 \n",
    "        if mod*base_dmg >= HP:\n",
    "            p_oneshot += chance/100\n",
    "    stats.append(p_oneshot)\n",
    "\n",
    "with open('oneshot.csv', 'w') as csvfile:\n",
    "    csvwriter = csv.writer(csvfile)\n",
    "    csvwriter.writerow(stats)\n"
   ]
  }
 ],
 "metadata": {
  "kernelspec": {
   "display_name": "Python 3",
   "language": "python",
   "name": "python3"
  },
  "language_info": {
   "codemirror_mode": {
    "name": "ipython",
    "version": 3
   },
   "file_extension": ".py",
   "mimetype": "text/x-python",
   "name": "python",
   "nbconvert_exporter": "python",
   "pygments_lexer": "ipython3",
   "version": "3.7.4"
  },
  "orig_nbformat": 4
 },
 "nbformat": 4,
 "nbformat_minor": 2
}
