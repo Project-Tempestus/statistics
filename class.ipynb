{
 "cells": [
  {
   "cell_type": "code",
   "execution_count": 19,
   "metadata": {},
   "outputs": [
    {
     "name": "stdout",
     "output_type": "stream",
     "text": [
      "REGIMENT : Cadia\n",
      "KLASA    : Rifleman\n",
      "STATYSTYKI\n",
      "Strzelectwo = 10\n",
      "Zwarcie = 40\n",
      "Sila = 40\n",
      "Wytrzymalosc = 40\n",
      "zwinnosc = 40\n",
      "Wiedza = 30\n",
      "Punkty Zywotnosci = 100\n",
      "\n"
     ]
    }
   ],
   "source": [
    "\n",
    "BasicStats = {\n",
    "    'US': ('Strzelectwo'    , 10),\n",
    "    'WW': ('Zwarcie'        , 40),\n",
    "    'S' : ('Sila'           , 40),\n",
    "    'WT': ('Wytrzymalosc'   ,  40),\n",
    "    'ZW': ('Zwinnosc'       ,      40),\n",
    "    'WZ': ('Wiedza',        30),\n",
    "    'HP': ('Punkty Zywotnosci', 100)\n",
    "}\n",
    "\n",
    "RegimentBonus = {\n",
    "    'Cadia' : {\n",
    "    'US': 5,\n",
    "    'WW': 5,\n",
    "    'WT': 5,\n",
    "    'ZW': 5\n",
    "    },\n",
    "    'Krieg' : {\n",
    "    'WW': 10,\n",
    "    'WT': 10,\n",
    "    'WZ': 10\n",
    "    },\n",
    "    'Armageddon' : {\n",
    "    'ZW': 10,\n",
    "    'WZ': 30\n",
    "    },\n",
    "    'Vostroya' : {\n",
    "    'WT': 15,\n",
    "    'HP': 20\n",
    "    }\n",
    "}\n",
    "\n",
    "class Guard:\n",
    "    def __init__(self, **kwargs ):\n",
    "        self.regiment = kwargs.get('regiment')\n",
    "        self.rank = kwargs.get('rank')\n",
    "        self.stats = BasicStats\n",
    "        \n",
    "\n",
    "    def __str__(self):\n",
    "        s = \"\"\n",
    "        if self.regiment:\n",
    "            s += f\"REGIMENT : {self.regiment}\\n\"\n",
    "        if self.rank:\n",
    "            s += f\"KLASA    : {self.rank}\\n\"\n",
    "\n",
    "        s += f\"STATYSTYKI\\n\"\n",
    "        for stat in self.stats:\n",
    "            s += f\"{self.stats[stat][0]} = {str(self.stats[stat][1])}\\n\"\n",
    "\n",
    "        return s\n",
    "\n",
    "Tomek = Guard()\n",
    "Tomek = Guard(regiment='Cadia',rank='Rifleman')\n",
    "\n",
    "print(Tomek)\n",
    "\n"
   ]
  }
 ],
 "metadata": {
  "kernelspec": {
   "display_name": "Python 3",
   "language": "python",
   "name": "python3"
  },
  "language_info": {
   "codemirror_mode": {
    "name": "ipython",
    "version": 3
   },
   "file_extension": ".py",
   "mimetype": "text/x-python",
   "name": "python",
   "nbconvert_exporter": "python",
   "pygments_lexer": "ipython3",
   "version": "3.7.4"
  },
  "orig_nbformat": 4
 },
 "nbformat": 4,
 "nbformat_minor": 2
}
